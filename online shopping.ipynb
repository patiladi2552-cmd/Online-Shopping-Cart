{
 "cells": [
  {
   "cell_type": "code",
   "execution_count": 1,
   "id": "b039088d-fe50-4dbe-8cb7-dfbe71e23d0c",
   "metadata": {},
   "outputs": [
    {
     "name": "stdout",
     "output_type": "stream",
     "text": [
      "\n",
      "Availuable products:\n",
      "Id\tname\t\tprice\tstock\n",
      "1\tlaptop\t\t50000\t5\n",
      "2\tphone\t\t20000\t10\n",
      "3\theadph\t\t25000\t15\n",
      "4\tcharger\t\t15000\t20\n"
     ]
    }
   ],
   "source": [
    "#online  shopping cart project\n",
    "\n",
    "#product catolog (dictionary with product ) \n",
    "products = { \n",
    "    1: {\"name\": \"laptop\", \"price\":50000, \"stock\":5},\n",
    "    2: {\"name\":\"phone\", \"price\":20000, \"stock\":10},\n",
    "    3: {\"name\":\"headph\", \"price\":25000, \"stock\":15},\n",
    "    4: {\"name\":\"charger\",\"price\":15000, \"stock\":20},\n",
    "}\n",
    "\n",
    "#empty card dictionary \n",
    "card={}\n",
    "\n",
    "# function to display available products\n",
    "def show_products():\n",
    "       print(\"\\nAvailuable products:\")\n",
    "       print(\"Id\\tname\\t\\tprice\\tstock\")\n",
    "       for pid, details in products.items():\n",
    "           print(f\"{pid}\\t{details['name']}\\t\\t{details['price']}\\t{details['stock']}\")\n",
    "show_products()\n"
   ]
  },
  {
   "cell_type": "code",
   "execution_count": 8,
   "id": "5d3e1feb-7938-4570-8bc7-e695da4cee97",
   "metadata": {},
   "outputs": [],
   "source": [
    "#functio to add prodcts to cart\n",
    "def add_to_cart():\n",
    "    show_products()\n",
    "    try:\n",
    "        pid = int(input(\"Enter product id to add: \"))\n",
    "        if pid not in products:\n",
    "            print(\"invalid product  id!\")\n",
    "            return\n",
    "        qty = int(input(\"enter quantity:\"))\n",
    "        if qty> products[pid][\"stock\"]:\n",
    "                  print(\"sorry, not enough stock!\")\n",
    "                  return\n",
    "        if pid in cart:\n",
    "            cart[pid] += qty\n",
    "        else:\n",
    "            cart[pid] = qty\n",
    "            products[pid][\"stock\"] -= qty\n",
    "            print(f\"{products[pid]['name']} added to cart.\")\n",
    "    except ValueError:\n",
    "            print(\"Invalid input!\")"
   ]
  },
  {
   "cell_type": "code",
   "execution_count": null,
   "id": "4acb555a-cd63-4606-b962-e0d77e39a1b6",
   "metadata": {},
   "outputs": [],
   "source": [
    "# Function to Checkout and save receipt\n",
    "def checkout():\n",
    "if not cart:\n",
    "print(\"Cart is empty !\")\n",
    "return\n",
    "total = 0\n",
    "print(\"\\n --- Recipet --- \")\n",
    "with open(\"receipt. txt\", \"\"w\"\") as f:\n",
    "f.write(\"Name --- Recipit\n",
    ".- \")\n",
    "f.write(\"Name\\quantity\\tprice\\nn\")\n",
    "for pid, qty in cart.items():\n",
    "name = products [pid] [\"name\"]\n",
    "price = products [pid] [ \"price\"] * qty\n",
    "total += price\n",
    "f.write(f\"{name}\\t{qty}\\t{price}\\n\")\n",
    "f.write(f\"Total Amount: {total}\\n\")\n",
    "-\\n\")\n",
    "f.write(\"\n",
    "print(\"Total Amount to pay: '.total')\n",
    "cart. clear(\n",
    "# tmpyed as cart after checkout\n",
    "DOLL\n",
    "F7\n",
    "F8\n",
    "F9\n",
    "Fo\n",
    "(Emort\n",
    "EneUp\n",
    "F3\n",
    "F4\n",
    "F5\n",
    "Fa\n",
    "(\n",
    "1\n",
    "8\n",
    "*\n",
    "7\n",
    "8\n",
    "9\n",
    "3\n",
    "4\n",
    "5\n",
    "6\n",
    "D"
   ]
  },
  {
   "cell_type": "code",
   "execution_count": 1,
   "id": "f9e59382-46e2-49f7-8f2f-29646078362f",
   "metadata": {},
   "outputs": [
    {
     "name": "stdout",
     "output_type": "stream",
     "text": [
      "\n",
      "--- Online Shopping Cart ---\n",
      "1. Show Products\n",
      "2. Add to Cart\n",
      "3. Remove from Cart\n",
      "4. View Cart\n",
      "5. Checkout\n",
      "6. Exit\n"
     ]
    },
    {
     "name": "stdin",
     "output_type": "stream",
     "text": [
      "Enter your choice:  1\n"
     ]
    },
    {
     "name": "stdout",
     "output_type": "stream",
     "text": [
      "\n",
      "Available Products:\n",
      "ID\tName\t\tPrice\tStock\n",
      "1\tLaptop\t50000\t5\n",
      "2\tPhone\t20000\t10\n",
      "3\tHeadphones\t1500\t15\n",
      "4\tCharger\t700\t20\n",
      "\n",
      "--- Online Shopping Cart ---\n",
      "1. Show Products\n",
      "2. Add to Cart\n",
      "3. Remove from Cart\n",
      "4. View Cart\n",
      "5. Checkout\n",
      "6. Exit\n"
     ]
    },
    {
     "name": "stdin",
     "output_type": "stream",
     "text": [
      "Enter your choice:  2\n"
     ]
    },
    {
     "name": "stdout",
     "output_type": "stream",
     "text": [
      "\n",
      "Available Products:\n",
      "ID\tName\t\tPrice\tStock\n",
      "1\tLaptop\t50000\t5\n",
      "2\tPhone\t20000\t10\n",
      "3\tHeadphones\t1500\t15\n",
      "4\tCharger\t700\t20\n"
     ]
    },
    {
     "name": "stdin",
     "output_type": "stream",
     "text": [
      "Enter Product ID to add:  3\n",
      "Enter quantity:  4\n"
     ]
    },
    {
     "name": "stdout",
     "output_type": "stream",
     "text": [
      "Headphones added to cart.\n",
      "\n",
      "--- Online Shopping Cart ---\n",
      "1. Show Products\n",
      "2. Add to Cart\n",
      "3. Remove from Cart\n",
      "4. View Cart\n",
      "5. Checkout\n",
      "6. Exit\n"
     ]
    },
    {
     "name": "stdin",
     "output_type": "stream",
     "text": [
      "Enter your choice:  5\n"
     ]
    },
    {
     "name": "stdout",
     "output_type": "stream",
     "text": [
      "\n",
      "--- Bill ---\n",
      "Total Amount to pay: 6000\n",
      "Receipt saved as 'receipt.txt'\n",
      "\n",
      "--- Online Shopping Cart ---\n",
      "1. Show Products\n",
      "2. Add to Cart\n",
      "3. Remove from Cart\n",
      "4. View Cart\n",
      "5. Checkout\n",
      "6. Exit\n"
     ]
    },
    {
     "name": "stdin",
     "output_type": "stream",
     "text": [
      "Enter your choice:  6\n"
     ]
    },
    {
     "name": "stdout",
     "output_type": "stream",
     "text": [
      "Thank you for shopping! Goodbye!\n"
     ]
    }
   ],
   "source": [
    "# 🛒 Online Shopping Cart Project\n",
    "\n",
    "# Product catalog (dictionary with product id as key)\n",
    "products = {\n",
    "    1: {\"name\": \"Laptop\", \"price\": 50000, \"stock\": 5},\n",
    "    2: {\"name\": \"Phone\", \"price\": 20000, \"stock\": 10},\n",
    "    3: {\"name\": \"Headphones\", \"price\": 1500, \"stock\": 15},\n",
    "    4: {\"name\": \"Charger\", \"price\": 700, \"stock\": 20}\n",
    "}\n",
    "\n",
    "# Empty cart dictionary\n",
    "cart = {}\n",
    "\n",
    "# Function to display available products\n",
    "def show_products():\n",
    "    print(\"\\nAvailable Products:\")\n",
    "    print(\"ID\\tName\\t\\tPrice\\tStock\")\n",
    "    for pid, details in products.items():\n",
    "        print(f\"{pid}\\t{details['name']}\\t{details['price']}\\t{details['stock']}\")\n",
    "\n",
    "# Function to add products to cart\n",
    "def add_to_cart():\n",
    "    show_products()\n",
    "    try:\n",
    "        pid = int(input(\"Enter Product ID to add: \"))\n",
    "        if pid not in products:\n",
    "            print(\"Invalid Product ID!\")\n",
    "            return\n",
    "        qty = int(input(\"Enter quantity: \"))\n",
    "        if qty > products[pid][\"stock\"]:\n",
    "            print(\"Sorry, not enough stock!\")\n",
    "            return\n",
    "        if pid in cart:\n",
    "            cart[pid] += qty\n",
    "        else:\n",
    "            cart[pid] = qty\n",
    "        products[pid][\"stock\"] -= qty\n",
    "        print(f\"{products[pid]['name']} added to cart.\")\n",
    "    except ValueError:\n",
    "        print(\"Invalid input!\")\n",
    "\n",
    "# Function to remove products from cart\n",
    "def remove_from_cart():\n",
    "    if not cart:\n",
    "        print(\"Cart is empty!\")\n",
    "        return\n",
    "    print(\"\\nItems in Cart:\")\n",
    "    for pid, qty in cart.items():\n",
    "        print(f\"{pid} - {products[pid]['name']} : {qty}\")\n",
    "    try:\n",
    "        pid = int(input(\"Enter Product ID to remove: \"))\n",
    "        if pid not in cart:\n",
    "            print(\"Product not in cart!\")\n",
    "            return\n",
    "        qty = int(input(\"Enter quantity to remove: \"))\n",
    "        if qty >= cart[pid]:\n",
    "            products[pid][\"stock\"] += cart[pid]\n",
    "            del cart[pid]\n",
    "        else:\n",
    "            cart[pid] -= qty\n",
    "            products[pid][\"stock\"] += qty\n",
    "        print(\"Item updated in cart.\")\n",
    "    except ValueError:\n",
    "        print(\"Invalid input!\")\n",
    "\n",
    "# Function to view cart and total\n",
    "def view_cart():\n",
    "    if not cart:\n",
    "        print(\"Cart is empty!\")\n",
    "        return\n",
    "    total = 0\n",
    "    print(\"\\nYour Cart:\")\n",
    "    print(\"Name\\tQuantity\\tPrice\")\n",
    "    for pid, qty in cart.items():\n",
    "        name = products[pid][\"name\"]\n",
    "        price = products[pid][\"price\"] * qty\n",
    "        total += price\n",
    "        print(f\"{name}\\t{qty}\\t\\t{price}\")\n",
    "    print(f\"Total Amount: {total}\")\n",
    "\n",
    "# Function to checkout and save receipt\n",
    "def checkout():\n",
    "    if not cart:\n",
    "        print(\"Cart is empty!\")\n",
    "        return\n",
    "    total = 0\n",
    "    print(\"\\n--- Bill ---\")\n",
    "    with open(\"receipt.txt\", \"w\") as f:\n",
    "        f.write(\"----- Receipt -----\\n\")\n",
    "        f.write(\"Name\\tQuantity\\tPrice\\n\")\n",
    "        for pid, qty in cart.items():\n",
    "            name = products[pid][\"name\"]\n",
    "            price = products[pid][\"price\"] * qty\n",
    "            total += price\n",
    "            f.write(f\"{name}\\t{qty}\\t{price}\\n\")\n",
    "        f.write(f\"Total Amount: {total}\\n\")\n",
    "        f.write(\"-------------------\\n\")\n",
    "    print(f\"Total Amount to pay: {total}\")\n",
    "    print(\"Receipt saved as 'receipt.txt'\")\n",
    "    cart.clear()  # Empty the cart after checkout\n",
    "\n",
    "# Main menu loop\n",
    "while True:\n",
    "    print(\"\\n--- Online Shopping Cart ---\")\n",
    "    print(\"1. Show Products\")\n",
    "    print(\"2. Add to Cart\")\n",
    "    print(\"3. Remove from Cart\")\n",
    "    print(\"4. View Cart\")\n",
    "    print(\"5. Checkout\")\n",
    "    print(\"6. Exit\")\n",
    "    \n",
    "    try:\n",
    "        choice = int(input(\"Enter your choice: \"))\n",
    "        if choice == 1:\n",
    "            show_products()\n",
    "        elif choice == 2:\n",
    "            add_to_cart()\n",
    "        elif choice == 3:\n",
    "            remove_from_cart()\n",
    "        elif choice == 4:\n",
    "            view_cart()\n",
    "        elif choice == 5:\n",
    "            checkout()\n",
    "        elif choice == 6:\n",
    "            print(\"Thank you for shopping! Goodbye!\")\n",
    "            break\n",
    "        else:\n",
    "            print(\"Invalid choice!\")\n",
    "    except ValueError:\n",
    "        print(\"Please enter a valid number!\")"
   ]
  },
  {
   "cell_type": "code",
   "execution_count": null,
   "id": "6cf37767-1da2-4b3f-86f7-85b17d83599e",
   "metadata": {},
   "outputs": [],
   "source": [
    "\n",
    "\n"
   ]
  }
 ],
 "metadata": {
  "kernelspec": {
   "display_name": "Python 3 (ipykernel)",
   "language": "python",
   "name": "python3"
  },
  "language_info": {
   "codemirror_mode": {
    "name": "ipython",
    "version": 3
   },
   "file_extension": ".py",
   "mimetype": "text/x-python",
   "name": "python",
   "nbconvert_exporter": "python",
   "pygments_lexer": "ipython3",
   "version": "3.13.5"
  }
 },
 "nbformat": 4,
 "nbformat_minor": 5
}
